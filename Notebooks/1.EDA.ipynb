{
 "cells": [
  {
   "attachments": {},
   "cell_type": "markdown",
   "metadata": {},
   "source": [
    "# Exploratory Data Analysis\n",
    "- Check the properties of the dataset, that will be a base for both establishing the trading policy for a bot and a training dataset for a return forecasting model"
   ]
  },
  {
   "attachments": {},
   "cell_type": "markdown",
   "metadata": {},
   "source": [
    "### 1. Import libraries and download dataset"
   ]
  },
  {
   "cell_type": "code",
   "execution_count": 9,
   "metadata": {},
   "outputs": [],
   "source": [
    "# Import neccessary libraries\n",
    "import pandas as pd"
   ]
  },
  {
   "cell_type": "code",
   "execution_count": 11,
   "metadata": {},
   "outputs": [],
   "source": [
    "# Read parquet df\n",
    "raw_data = pd.read_parquet('raw_data.parquet', engine='pyarrow')"
   ]
  },
  {
   "attachments": {},
   "cell_type": "markdown",
   "metadata": {},
   "source": [
    "### 2. Shape of a dataset"
   ]
  },
  {
   "cell_type": "code",
   "execution_count": 27,
   "metadata": {},
   "outputs": [
    {
     "name": "stdout",
     "output_type": "stream",
     "text": [
      "Number of rows: 1172528\n",
      "Number of columns: 11\n",
      "First time lag: 2021-01-01 00:00:00\n",
      "Last time lag: 2023-03-27 00:00:00\n"
     ]
    }
   ],
   "source": [
    "# Check the size of the dataset\n",
    "print(f'Number of rows: {raw_data.shape[0]}')\n",
    "print(f'Number of columns: {raw_data.shape[1]}')\n",
    "\n",
    "# Check starting and ending time lag of the dataset\n",
    "print(f'First time lag: {raw_data.time.iloc[0]}')\n",
    "print(f'Last time lag: {raw_data.time.iloc[-1]}')"
   ]
  },
  {
   "attachments": {},
   "cell_type": "markdown",
   "metadata": {},
   "source": [
    "#### Takeaway:\n",
    "- Dataset consists of 1.172.528 rows, each of them representing 1minute candle of trading data for a BTC/BUSD pair, and 11 columns which meaning will be elaborated further\n",
    "---\n",
    "- Dataset is a timeseries that spans from the 1st of January 2021 to 27th of March 2023 --> 2 and 1/4 years of data"
   ]
  },
  {
   "attachments": {},
   "cell_type": "markdown",
   "metadata": {},
   "source": [
    "### 3. Column names"
   ]
  },
  {
   "attachments": {},
   "cell_type": "markdown",
   "metadata": {},
   "source": [
    "- TIME: open time in unix time format (first second of a minute)\n",
    "---\n",
    "- OPEN: opening price in a given time lag\n",
    "---\n",
    "- HIGH: highest price in a given time lag\n",
    "---\n",
    "- LOW: lowest price in a given time lag\n",
    "---\n",
    "- CLOSE: closing price in a given time lag\n",
    "---\n",
    "- VOLUME: traded volume in a given time lag\n",
    "---\n",
    "- CLOSE_TIME: close time in unix time format (last second of a minute)\n",
    "---\n",
    "- QUOTE_ASSET_VOLUME: traded volume in a trading asset (here BUSD)\n",
    "---\n",
    "- NUMBER_OF_TRADES: trades occured in a given time lag\n",
    "---\n",
    "- TAKER_BUY_BASE_ASSET_VOLUME: volume of base asset that traders want to buy (here BTC), if over 1 - probably bullish sentiment (https://dataguide.cryptoquant.com/market-data-indicators/taker-buy-sell-volume-ratio)\n",
    "---\n",
    "- TAKER_BUY_QUOTE_ASSET_VOLUME: volume of trading asset that traders want to buy (here BUSD)"
   ]
  },
  {
   "attachments": {},
   "cell_type": "markdown",
   "metadata": {},
   "source": [
    "### 4. Null values, duplicates, statistical properties"
   ]
  },
  {
   "cell_type": "code",
   "execution_count": 28,
   "metadata": {},
   "outputs": [
    {
     "name": "stdout",
     "output_type": "stream",
     "text": [
      "<class 'pandas.core.frame.DataFrame'>\n",
      "RangeIndex: 1172528 entries, 0 to 1172527\n",
      "Data columns (total 11 columns):\n",
      " #   Column                        Non-Null Count    Dtype         \n",
      "---  ------                        --------------    -----         \n",
      " 0   time                          1172528 non-null  datetime64[ns]\n",
      " 1   open                          1172528 non-null  float64       \n",
      " 2   high                          1172528 non-null  float64       \n",
      " 3   low                           1172528 non-null  float64       \n",
      " 4   close                         1172528 non-null  float64       \n",
      " 5   volume                        1172528 non-null  float64       \n",
      " 6   close_time                    1172528 non-null  datetime64[ns]\n",
      " 7   quote_asset_volume            1172528 non-null  float64       \n",
      " 8   number_of_trades              1172528 non-null  int64         \n",
      " 9   taker_buy_base_asset_volume   1172528 non-null  float64       \n",
      " 10  taker_buy_quote_asset_volume  1172528 non-null  float64       \n",
      "dtypes: datetime64[ns](2), float64(8), int64(1)\n",
      "memory usage: 98.4 MB\n"
     ]
    }
   ],
   "source": [
    "# Check for null values and number of rows per column\n",
    "raw_data.info()"
   ]
  },
  {
   "attachments": {},
   "cell_type": "markdown",
   "metadata": {},
   "source": [
    "#### Takeaway:\n",
    "- No null values\n",
    "---\n",
    "- All of the rows consist of the same number of rows, same as the previously checked total number of rows for the whole dataset"
   ]
  },
  {
   "cell_type": "code",
   "execution_count": 35,
   "metadata": {},
   "outputs": [
    {
     "name": "stdout",
     "output_type": "stream",
     "text": [
      "Duplicate rows: 0\n"
     ]
    },
    {
     "data": {
      "text/html": [
       "<div>\n",
       "<style scoped>\n",
       "    .dataframe tbody tr th:only-of-type {\n",
       "        vertical-align: middle;\n",
       "    }\n",
       "\n",
       "    .dataframe tbody tr th {\n",
       "        vertical-align: top;\n",
       "    }\n",
       "\n",
       "    .dataframe thead th {\n",
       "        text-align: right;\n",
       "    }\n",
       "</style>\n",
       "<table border=\"1\" class=\"dataframe\">\n",
       "  <thead>\n",
       "    <tr style=\"text-align: right;\">\n",
       "      <th></th>\n",
       "      <th>time</th>\n",
       "      <th>open</th>\n",
       "      <th>high</th>\n",
       "      <th>low</th>\n",
       "      <th>close</th>\n",
       "      <th>volume</th>\n",
       "      <th>close_time</th>\n",
       "      <th>quote_asset_volume</th>\n",
       "      <th>number_of_trades</th>\n",
       "      <th>taker_buy_base_asset_volume</th>\n",
       "      <th>taker_buy_quote_asset_volume</th>\n",
       "    </tr>\n",
       "  </thead>\n",
       "  <tbody>\n",
       "  </tbody>\n",
       "</table>\n",
       "</div>"
      ],
      "text/plain": [
       "Empty DataFrame\n",
       "Columns: [time, open, high, low, close, volume, close_time, quote_asset_volume, number_of_trades, taker_buy_base_asset_volume, taker_buy_quote_asset_volume]\n",
       "Index: []"
      ]
     },
     "execution_count": 35,
     "metadata": {},
     "output_type": "execute_result"
    }
   ],
   "source": [
    "# Check for duplicate rows\n",
    "duplicate_rows = raw_data[raw_data.duplicated()]\n",
    "\n",
    "# Count duplicate rows if exist\n",
    "print(f'Duplicate rows: {len(duplicate_rows)}')\n",
    "# Display duplicate rows if exists\n",
    "duplicate_rows.head()"
   ]
  },
  {
   "attachments": {},
   "cell_type": "markdown",
   "metadata": {},
   "source": [
    "#### Takeaway:\n",
    "- No duplicate rows"
   ]
  },
  {
   "cell_type": "code",
   "execution_count": 13,
   "metadata": {},
   "outputs": [
    {
     "data": {
      "text/html": [
       "<div>\n",
       "<style scoped>\n",
       "    .dataframe tbody tr th:only-of-type {\n",
       "        vertical-align: middle;\n",
       "    }\n",
       "\n",
       "    .dataframe tbody tr th {\n",
       "        vertical-align: top;\n",
       "    }\n",
       "\n",
       "    .dataframe thead th {\n",
       "        text-align: right;\n",
       "    }\n",
       "</style>\n",
       "<table border=\"1\" class=\"dataframe\">\n",
       "  <thead>\n",
       "    <tr style=\"text-align: right;\">\n",
       "      <th></th>\n",
       "      <th>open</th>\n",
       "      <th>high</th>\n",
       "      <th>low</th>\n",
       "      <th>close</th>\n",
       "      <th>volume</th>\n",
       "      <th>quote_asset_volume</th>\n",
       "      <th>number_of_trades</th>\n",
       "      <th>taker_buy_base_asset_volume</th>\n",
       "      <th>taker_buy_quote_asset_volume</th>\n",
       "    </tr>\n",
       "  </thead>\n",
       "  <tbody>\n",
       "    <tr>\n",
       "      <th>count</th>\n",
       "      <td>1.172528e+06</td>\n",
       "      <td>1.172528e+06</td>\n",
       "      <td>1.172528e+06</td>\n",
       "      <td>1.172528e+06</td>\n",
       "      <td>1.172528e+06</td>\n",
       "      <td>1.172528e+06</td>\n",
       "      <td>1.172528e+06</td>\n",
       "      <td>1.172528e+06</td>\n",
       "      <td>1.172528e+06</td>\n",
       "    </tr>\n",
       "    <tr>\n",
       "      <th>mean</th>\n",
       "      <td>3.619711e+04</td>\n",
       "      <td>3.621927e+04</td>\n",
       "      <td>3.617511e+04</td>\n",
       "      <td>3.619709e+04</td>\n",
       "      <td>3.375019e+01</td>\n",
       "      <td>8.573963e+05</td>\n",
       "      <td>7.638513e+02</td>\n",
       "      <td>1.678371e+01</td>\n",
       "      <td>4.256519e+05</td>\n",
       "    </tr>\n",
       "    <tr>\n",
       "      <th>std</th>\n",
       "      <td>1.395299e+04</td>\n",
       "      <td>1.396131e+04</td>\n",
       "      <td>1.394450e+04</td>\n",
       "      <td>1.395298e+04</td>\n",
       "      <td>6.097816e+01</td>\n",
       "      <td>1.289898e+06</td>\n",
       "      <td>1.000379e+03</td>\n",
       "      <td>3.084987e+01</td>\n",
       "      <td>6.591964e+05</td>\n",
       "    </tr>\n",
       "    <tr>\n",
       "      <th>min</th>\n",
       "      <td>1.549455e+04</td>\n",
       "      <td>1.552814e+04</td>\n",
       "      <td>1.546192e+04</td>\n",
       "      <td>1.549845e+04</td>\n",
       "      <td>0.000000e+00</td>\n",
       "      <td>0.000000e+00</td>\n",
       "      <td>0.000000e+00</td>\n",
       "      <td>0.000000e+00</td>\n",
       "      <td>0.000000e+00</td>\n",
       "    </tr>\n",
       "    <tr>\n",
       "      <th>25%</th>\n",
       "      <td>2.231399e+04</td>\n",
       "      <td>2.232500e+04</td>\n",
       "      <td>2.230028e+04</td>\n",
       "      <td>2.231394e+04</td>\n",
       "      <td>5.007305e+00</td>\n",
       "      <td>2.121594e+05</td>\n",
       "      <td>2.200000e+02</td>\n",
       "      <td>2.250323e+00</td>\n",
       "      <td>9.526978e+04</td>\n",
       "    </tr>\n",
       "    <tr>\n",
       "      <th>50%</th>\n",
       "      <td>3.671243e+04</td>\n",
       "      <td>3.674779e+04</td>\n",
       "      <td>3.667879e+04</td>\n",
       "      <td>3.671253e+04</td>\n",
       "      <td>1.240295e+01</td>\n",
       "      <td>4.549234e+05</td>\n",
       "      <td>4.130000e+02</td>\n",
       "      <td>5.998395e+00</td>\n",
       "      <td>2.183090e+05</td>\n",
       "    </tr>\n",
       "    <tr>\n",
       "      <th>75%</th>\n",
       "      <td>4.713897e+04</td>\n",
       "      <td>4.716412e+04</td>\n",
       "      <td>4.711293e+04</td>\n",
       "      <td>4.713897e+04</td>\n",
       "      <td>3.899865e+01</td>\n",
       "      <td>1.009983e+06</td>\n",
       "      <td>9.430000e+02</td>\n",
       "      <td>1.927613e+01</td>\n",
       "      <td>5.025057e+05</td>\n",
       "    </tr>\n",
       "    <tr>\n",
       "      <th>max</th>\n",
       "      <td>6.899999e+04</td>\n",
       "      <td>6.902000e+04</td>\n",
       "      <td>6.878287e+04</td>\n",
       "      <td>6.899999e+04</td>\n",
       "      <td>2.536149e+03</td>\n",
       "      <td>5.476829e+07</td>\n",
       "      <td>5.137700e+04</td>\n",
       "      <td>1.430346e+03</td>\n",
       "      <td>3.120754e+07</td>\n",
       "    </tr>\n",
       "  </tbody>\n",
       "</table>\n",
       "</div>"
      ],
      "text/plain": [
       "               open          high           low         close        volume  \\\n",
       "count  1.172528e+06  1.172528e+06  1.172528e+06  1.172528e+06  1.172528e+06   \n",
       "mean   3.619711e+04  3.621927e+04  3.617511e+04  3.619709e+04  3.375019e+01   \n",
       "std    1.395299e+04  1.396131e+04  1.394450e+04  1.395298e+04  6.097816e+01   \n",
       "min    1.549455e+04  1.552814e+04  1.546192e+04  1.549845e+04  0.000000e+00   \n",
       "25%    2.231399e+04  2.232500e+04  2.230028e+04  2.231394e+04  5.007305e+00   \n",
       "50%    3.671243e+04  3.674779e+04  3.667879e+04  3.671253e+04  1.240295e+01   \n",
       "75%    4.713897e+04  4.716412e+04  4.711293e+04  4.713897e+04  3.899865e+01   \n",
       "max    6.899999e+04  6.902000e+04  6.878287e+04  6.899999e+04  2.536149e+03   \n",
       "\n",
       "       quote_asset_volume  number_of_trades  taker_buy_base_asset_volume  \\\n",
       "count        1.172528e+06      1.172528e+06                 1.172528e+06   \n",
       "mean         8.573963e+05      7.638513e+02                 1.678371e+01   \n",
       "std          1.289898e+06      1.000379e+03                 3.084987e+01   \n",
       "min          0.000000e+00      0.000000e+00                 0.000000e+00   \n",
       "25%          2.121594e+05      2.200000e+02                 2.250323e+00   \n",
       "50%          4.549234e+05      4.130000e+02                 5.998395e+00   \n",
       "75%          1.009983e+06      9.430000e+02                 1.927613e+01   \n",
       "max          5.476829e+07      5.137700e+04                 1.430346e+03   \n",
       "\n",
       "       taker_buy_quote_asset_volume  \n",
       "count                  1.172528e+06  \n",
       "mean                   4.256519e+05  \n",
       "std                    6.591964e+05  \n",
       "min                    0.000000e+00  \n",
       "25%                    9.526978e+04  \n",
       "50%                    2.183090e+05  \n",
       "75%                    5.025057e+05  \n",
       "max                    3.120754e+07  "
      ]
     },
     "execution_count": 13,
     "metadata": {},
     "output_type": "execute_result"
    }
   ],
   "source": [
    "# Statistical properties of datasets variables\n",
    "raw_data.describe()"
   ]
  },
  {
   "attachments": {},
   "cell_type": "markdown",
   "metadata": {},
   "source": [
    "#### Takeaway:\n",
    "- Nothing too interesting can be observed here\n",
    "---\n",
    "- According to the 'mean' row, mean values for each of OHLC prices are very simmilar (absolute differences are very small), therefore daily absolute volatility is not high\n",
    "---\n",
    "- Same is confirmed with the value of standard deviation\n",
    "---\n",
    "- Volume however, differs much more than the OHLC prices, 'std' is almost twice larger than the mean value\n",
    "---\n",
    "- TAKER_BUY_BASE_ASSET_VOLUME average value is above one (nearly 2), therefore the trend thoughout the given period is rather 'bullish' "
   ]
  },
  {
   "cell_type": "markdown",
   "metadata": {},
   "source": []
  }
 ],
 "metadata": {
  "kernelspec": {
   "display_name": "base",
   "language": "python",
   "name": "python3"
  },
  "language_info": {
   "codemirror_mode": {
    "name": "ipython",
    "version": 3
   },
   "file_extension": ".py",
   "mimetype": "text/x-python",
   "name": "python",
   "nbconvert_exporter": "python",
   "pygments_lexer": "ipython3",
   "version": "3.8.5 (default, Sep  4 2020, 02:22:02) \n[Clang 10.0.0 ]"
  },
  "orig_nbformat": 4,
  "vscode": {
   "interpreter": {
    "hash": "40d3a090f54c6569ab1632332b64b2c03c39dcf918b08424e98f38b5ae0af88f"
   }
  }
 },
 "nbformat": 4,
 "nbformat_minor": 2
}
